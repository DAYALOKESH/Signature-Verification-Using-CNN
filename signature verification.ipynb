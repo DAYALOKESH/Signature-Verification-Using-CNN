{
 "cells": [
  {
   "cell_type": "code",
   "execution_count": 1,
   "id": "4909a6b2",
   "metadata": {},
   "outputs": [],
   "source": [
    "import tensorflow as tf\n",
    "import tensorflow.keras as keras \n",
    "from keras.layers import Flatten,Dense\n",
    "from keras.models import Model,Sequential\n",
    "from keras.applications.vgg16 import VGG16\n",
    "from keras.applications.vgg16 import preprocess_input\n",
    "from keras.preprocessing.image import ImageDataGenerator\n",
    "from keras.layers import Conv2D, MaxPooling2D\n",
    "from keras.layers import Activation, Dropout, Flatten, Dense\n",
    "from sklearn.model_selection import train_test_split\n",
    "from keras.optimizers import Adam\n",
    "import numpy as np"
   ]
  },
  {
   "cell_type": "code",
   "execution_count": 2,
   "id": "3d8e48b4",
   "metadata": {},
   "outputs": [],
   "source": [
    "batch_size = 64 \n",
    "num_classes = 2\n",
    "epochs = 10\n",
    "img_rows, img_cols =224, 224"
   ]
  },
  {
   "cell_type": "code",
   "execution_count": 3,
   "id": "aac29448",
   "metadata": {},
   "outputs": [
    {
     "name": "stdout",
     "output_type": "stream",
     "text": [
      "Model: \"vgg16\"\n",
      "_________________________________________________________________\n",
      " Layer (type)                Output Shape              Param #   \n",
      "=================================================================\n",
      " input_1 (InputLayer)        [(None, 224, 224, 3)]     0         \n",
      "                                                                 \n",
      " block1_conv1 (Conv2D)       (None, 224, 224, 64)      1792      \n",
      "                                                                 \n",
      " block1_conv2 (Conv2D)       (None, 224, 224, 64)      36928     \n",
      "                                                                 \n",
      " block1_pool (MaxPooling2D)  (None, 112, 112, 64)      0         \n",
      "                                                                 \n",
      " block2_conv1 (Conv2D)       (None, 112, 112, 128)     73856     \n",
      "                                                                 \n",
      " block2_conv2 (Conv2D)       (None, 112, 112, 128)     147584    \n",
      "                                                                 \n",
      " block2_pool (MaxPooling2D)  (None, 56, 56, 128)       0         \n",
      "                                                                 \n",
      " block3_conv1 (Conv2D)       (None, 56, 56, 256)       295168    \n",
      "                                                                 \n",
      " block3_conv2 (Conv2D)       (None, 56, 56, 256)       590080    \n",
      "                                                                 \n",
      " block3_conv3 (Conv2D)       (None, 56, 56, 256)       590080    \n",
      "                                                                 \n",
      " block3_pool (MaxPooling2D)  (None, 28, 28, 256)       0         \n",
      "                                                                 \n",
      " block4_conv1 (Conv2D)       (None, 28, 28, 512)       1180160   \n",
      "                                                                 \n",
      " block4_conv2 (Conv2D)       (None, 28, 28, 512)       2359808   \n",
      "                                                                 \n",
      " block4_conv3 (Conv2D)       (None, 28, 28, 512)       2359808   \n",
      "                                                                 \n",
      " block4_pool (MaxPooling2D)  (None, 14, 14, 512)       0         \n",
      "                                                                 \n",
      " block5_conv1 (Conv2D)       (None, 14, 14, 512)       2359808   \n",
      "                                                                 \n",
      " block5_conv2 (Conv2D)       (None, 14, 14, 512)       2359808   \n",
      "                                                                 \n",
      " block5_conv3 (Conv2D)       (None, 14, 14, 512)       2359808   \n",
      "                                                                 \n",
      " block5_pool (MaxPooling2D)  (None, 7, 7, 512)         0         \n",
      "                                                                 \n",
      "=================================================================\n",
      "Total params: 14,714,688\n",
      "Trainable params: 14,714,688\n",
      "Non-trainable params: 0\n",
      "_________________________________________________________________\n",
      "Model: \"model\"\n",
      "_________________________________________________________________\n",
      " Layer (type)                Output Shape              Param #   \n",
      "=================================================================\n",
      " input_1 (InputLayer)        [(None, 224, 224, 3)]     0         \n",
      "                                                                 \n",
      " block1_conv1 (Conv2D)       (None, 224, 224, 64)      1792      \n",
      "                                                                 \n",
      " block1_conv2 (Conv2D)       (None, 224, 224, 64)      36928     \n",
      "                                                                 \n",
      " block1_pool (MaxPooling2D)  (None, 112, 112, 64)      0         \n",
      "                                                                 \n",
      " block2_conv1 (Conv2D)       (None, 112, 112, 128)     73856     \n",
      "                                                                 \n",
      " block2_conv2 (Conv2D)       (None, 112, 112, 128)     147584    \n",
      "                                                                 \n",
      " block2_pool (MaxPooling2D)  (None, 56, 56, 128)       0         \n",
      "                                                                 \n",
      " block3_conv1 (Conv2D)       (None, 56, 56, 256)       295168    \n",
      "                                                                 \n",
      " block3_conv2 (Conv2D)       (None, 56, 56, 256)       590080    \n",
      "                                                                 \n",
      " block3_conv3 (Conv2D)       (None, 56, 56, 256)       590080    \n",
      "                                                                 \n",
      " block3_pool (MaxPooling2D)  (None, 28, 28, 256)       0         \n",
      "                                                                 \n",
      " block4_conv1 (Conv2D)       (None, 28, 28, 512)       1180160   \n",
      "                                                                 \n",
      " block4_conv2 (Conv2D)       (None, 28, 28, 512)       2359808   \n",
      "                                                                 \n",
      " block4_conv3 (Conv2D)       (None, 28, 28, 512)       2359808   \n",
      "                                                                 \n",
      " block4_pool (MaxPooling2D)  (None, 14, 14, 512)       0         \n",
      "                                                                 \n",
      " block5_conv1 (Conv2D)       (None, 14, 14, 512)       2359808   \n",
      "                                                                 \n",
      " block5_conv2 (Conv2D)       (None, 14, 14, 512)       2359808   \n",
      "                                                                 \n",
      " block5_conv3 (Conv2D)       (None, 14, 14, 512)       2359808   \n",
      "                                                                 \n",
      " block5_pool (MaxPooling2D)  (None, 7, 7, 512)         0         \n",
      "                                                                 \n",
      " sequential (Sequential)     (None, 2)                 6423298   \n",
      "                                                                 \n",
      "=================================================================\n",
      "Total params: 21,137,986\n",
      "Trainable params: 6,423,298\n",
      "Non-trainable params: 14,714,688\n",
      "_________________________________________________________________\n"
     ]
    },
    {
     "name": "stderr",
     "output_type": "stream",
    
     ]
    }
   ],
   "source": [
    "base_model =VGG16(weights='imagenet', include_top=False, input_shape=(224,224,3))\n",
    "base_model.summary()\n",
    "base_model.trainable=False\n",
    "add_model = Sequential()\n",
    "add_model.add(Flatten(input_shape=base_model.output_shape[1:]))\n",
    "add_model.add(Dense(256, activation='relu'))\n",
    "add_model.add(Dense(2, activation='softmax'))\n",
    "\n",
    "model = Model(inputs=base_model.input, outputs=add_model(base_model.output))\n",
    "model.compile(loss='categorical_crossentropy', optimizer=Adam(lr=1e-4),\n",
    "              metrics=['accuracy'])\n",
    "\n",
    "model.summary()"
   ]
  },
  {
   "cell_type": "code",
   "execution_count": 4,
   "id": "26cff61a",
   "metadata": {},
   "outputs": [],
   "source": [
    "train_datagen = ImageDataGenerator(rescale=1./255,\n",
    "                                   shear_range=0.2,\n",
    "                                   zoom_range=0.2,\n",
    "                                   horizontal_flip=True)\n",
    "\n",
    "test_datagen = ImageDataGenerator(rescale=1./255)"
   ]
  },
  {
   "cell_type": "code",
   "execution_count": 5,
   "id": "0e924612",
   "metadata": {},
   "outputs": [],
   "source": [
    "import glob\n",
    "org=glob.glob(\"A:archive_2/signatures/full_org\")\n",
    "forg=glob.glob(\"A:archive_2/signatures/full_forg\")"
   ]
  },
  {
   "cell_type": "code",
   "execution_count": null,
   "id": "79a8e012",
   "metadata": {},
   "outputs": [],
   "source": [
    "\n"
   ]
  },
  {
   "cell_type": "code",
   "execution_count": 6,
   "id": "49dc7f4c",
   "metadata": {},
   "outputs": [
    {
     "name": "stdout",
     "output_type": "stream",
     "text": [
      "Found 2640 images belonging to 2 classes.\n"
     ]
    }
   ],
   "source": [
    "org=train_datagen.flow_from_directory(\n",
    "    'A:archive_2/signatures',\n",
    "    target_size=(img_rows, img_cols),\n",
    "    \n",
    "    batch_size=batch_size,\n",
    "    )"
   ]
  },
  {
   "cell_type": "code",
   "execution_count": 7,
   "id": "e11476c7",
   "metadata": {},
   "outputs": [
    {
     "name": "stdout",
     "output_type": "stream",
     "text": [
      "Found 2640 images belonging to 2 classes.\n",
      "Found 2640 images belonging to 2 classes.\n"
     ]
    }
   ],
   "source": [
    "train_generator = train_datagen.flow_from_directory(\n",
    "    'A:archive_2/signatures',\n",
    "    target_size=(img_rows, img_cols),\n",
    "    \n",
    "    batch_size=batch_size,\n",
    "    )\n",
    "\n",
    "validation_generator = test_datagen.flow_from_directory(\n",
    "    'A:archive_2/signatures',\n",
    "    target_size=(img_rows, img_cols),\n",
    "    \n",
    "    batch_size=batch_size,\n",
    "    )"
   ]
  },
  {
   "cell_type": "code",
   "execution_count": 8,
   "id": "41d8e841",
   "metadata": {},
   "outputs": [
    {
     "name": "stderr",
     "output_type": "stream",
     "text": [
      "C:\\Users\\tsaij\\AppData\\Local\\Temp\\ipykernel_82616\\632782601.py:1: UserWarning: `Model.fit_generator` is deprecated and will be removed in a future version. Please use `Model.fit`, which supports generators.\n",
      "  history = model.fit_generator(\n"
     ]
    },
    {
     "name": "stdout",
     "output_type": "stream",
     "text": [
      "Epoch 1/10\n",
      "15/15 [==============================] - 344s 23s/step - loss: 0.7350 - accuracy: 0.6021 - val_loss: 0.5624 - val_accuracy: 0.6797\n",
      "Epoch 2/10\n",
      "15/15 [==============================] - 308s 21s/step - loss: 0.4864 - accuracy: 0.7675 - val_loss: 0.3964 - val_accuracy: 0.8359\n",
      "Epoch 3/10\n",
      "15/15 [==============================] - 303s 20s/step - loss: 0.4554 - accuracy: 0.7961 - val_loss: 0.3862 - val_accuracy: 0.8438\n",
      "Epoch 4/10\n",
      "15/15 [==============================] - 342s 23s/step - loss: 0.3962 - accuracy: 0.8271 - val_loss: 0.3927 - val_accuracy: 0.8125\n",
      "Epoch 5/10\n",
      "15/15 [==============================] - 317s 22s/step - loss: 0.3544 - accuracy: 0.8615 - val_loss: 0.3353 - val_accuracy: 0.8698\n",
      "Epoch 6/10\n",
      "15/15 [==============================] - 301s 20s/step - loss: 0.3148 - accuracy: 0.8827 - val_loss: 0.2505 - val_accuracy: 0.9323\n",
      "Epoch 7/10\n",
      "15/15 [==============================] - 297s 20s/step - loss: 0.2939 - accuracy: 0.8849 - val_loss: 0.2172 - val_accuracy: 0.9609\n",
      "Epoch 8/10\n",
      "15/15 [==============================] - 310s 21s/step - loss: 0.2565 - accuracy: 0.9167 - val_loss: 0.2250 - val_accuracy: 0.9219\n",
      "Epoch 9/10\n",
      "15/15 [==============================] - 299s 20s/step - loss: 0.2510 - accuracy: 0.9123 - val_loss: 0.1848 - val_accuracy: 0.9583\n",
      "Epoch 10/10\n",
      "15/15 [==============================] - 311s 21s/step - loss: 0.2043 - accuracy: 0.9500 - val_loss: 0.1649 - val_accuracy: 0.9740\n"
     ]
    }
   ],
   "source": [
    "history = model.fit_generator(\n",
    "    train_generator,\n",
    "    steps_per_epoch=1000 // batch_size,\n",
    "    epochs=epochs,\n",
    "    validation_data=validation_generator,\n",
    "    validation_steps=400 // batch_size)"
   ]
  },
  {
   "cell_type": "code",
   "execution_count": 9,
   "id": "7ffa7c9c",
   "metadata": {},
   "outputs": [
    {
     "name": "stdout",
     "output_type": "stream",
     "text": [
      "42/42 [==============================] - 597s 14s/step\n"
     ]
    }
   ],
   "source": [
    "pred=model.predict(validation_generator)"
   ]
  },
  {
   "cell_type": "code",
   "execution_count": 10,
   "id": "b04674e5",
   "metadata": {},
   "outputs": [
    {
     "data": {
      "text/plain": [
       "array([[0.9120792 , 0.08792078],\n",
       "       [0.0948308 , 0.90516925],\n",
       "       [0.15949023, 0.8405098 ],\n",
       "       ...,\n",
       "       [0.0251813 , 0.97481865],\n",
       "       [0.969578  , 0.0304219 ],\n",
       "       [0.06857559, 0.93142444]], dtype=float32)"
      ]
     },
     "execution_count": 10,
     "metadata": {},
     "output_type": "execute_result"
    }
   ],
   "source": [
    "pred"
   ]
  },
  {
   "cell_type": "code",
   "execution_count": 11,
   "id": "55e6611e",
   "metadata": {},
   "outputs": [
    {
     "data": {
      "text/plain": [
       "<Figure size 640x480 with 0 Axes>"
      ]
     },
     "execution_count": 11,
     "metadata": {},
     "output_type": "execute_result"
    },
    {
     "data": {
      "image/png": "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\n",
      "text/plain": [
       "<Figure size 640x480 with 1 Axes>"
      ]
     },
     "metadata": {},
     "output_type": "display_data"
    },
    {
     "data": {
      "text/plain": [
       "<Figure size 640x480 with 0 Axes>"
      ]
     },
     "metadata": {},
     "output_type": "display_data"
    }
   ],
   "source": [
    "import matplotlib.pyplot as plt\n",
    "acc = history.history['accuracy']\n",
    "val_acc = history.history['val_accuracy']\n",
    "loss = history.history['loss']\n",
    "val_loss = history.history['val_loss']\n",
    " \n",
    "epochs = range(len(acc))\n",
    " \n",
    "plt.plot(epochs, acc, 'b', label='Training acc')\n",
    "plt.plot(epochs, val_acc, 'r', label='Validation acc')\n",
    "plt.title('Training and validation accuracy')\n",
    "plt.legend()\n",
    " \n",
    "plt.figure()"
   ]
  },
  {
   "cell_type": "code",
   "execution_count": null,
   "id": "a8f21db0",
   "metadata": {},
   "outputs": [],
   "source": []
  }
 ],
 "metadata": {
  "kernelspec": {
   "display_name": "Python 3 (ipykernel)",
   "language": "python",
   "name": "python3"
  },
  "language_info": {
   "codemirror_mode": {
    "name": "ipython",
    "version": 3
   },
   "file_extension": ".py",
   "mimetype": "text/x-python",
   "name": "python",
   "nbconvert_exporter": "python",
   "pygments_lexer": "ipython3",
   "version": "3.9.13"
  }
 },
 "nbformat": 4,
 "nbformat_minor": 5
}
